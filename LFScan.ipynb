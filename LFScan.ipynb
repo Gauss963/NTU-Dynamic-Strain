{
 "cells": [
  {
   "cell_type": "code",
   "execution_count": 1,
   "metadata": {},
   "outputs": [
    {
     "name": "stdout",
     "output_type": "stream",
     "text": [
      "./Models/100mm-PMMA.msh: 297.74 MB\n",
      "./Models/50mm-PMMA.msh: 143.66 MB\n"
     ]
    }
   ],
   "source": [
    "import os\n",
    "\n",
    "MAX_SIZE_MB = 98\n",
    "\n",
    "for root, dirs, files in os.walk('.'):\n",
    "    for filename in files:\n",
    "        filepath = os.path.join(root, filename)\n",
    "        try:\n",
    "            filesize = os.path.getsize(filepath) / (1024 * 1024)\n",
    "            if filesize > MAX_SIZE_MB:\n",
    "                print(f'{filepath}: {filesize:.2f} MB')\n",
    "        except OSError as e:\n",
    "            print(f'Error accessing {filepath}: {e}')"
   ]
  }
 ],
 "metadata": {
  "kernelspec": {
   "display_name": "AC-analysis",
   "language": "python",
   "name": "python3"
  },
  "language_info": {
   "codemirror_mode": {
    "name": "ipython",
    "version": 3
   },
   "file_extension": ".py",
   "mimetype": "text/x-python",
   "name": "python",
   "nbconvert_exporter": "python",
   "pygments_lexer": "ipython3",
   "version": "3.12.8"
  }
 },
 "nbformat": 4,
 "nbformat_minor": 2
}
